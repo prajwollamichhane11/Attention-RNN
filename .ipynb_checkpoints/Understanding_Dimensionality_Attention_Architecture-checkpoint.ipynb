{
 "cells": [
  {
   "cell_type": "markdown",
   "metadata": {},
   "source": [
    "<h2>Implemented from</h2>\n",
    "<h3><a href=\"https://github.com/silencedsre/Attention/blob/master/NMT.ipynb\"> Resource</a></h3>"
   ]
  },
  {
   "cell_type": "code",
   "execution_count": 5,
   "metadata": {},
   "outputs": [],
   "source": [
    "import tensorflow as tf"
   ]
  },
  {
   "cell_type": "code",
   "execution_count": 10,
   "metadata": {},
   "outputs": [
    {
     "data": {
      "text/plain": [
       "'2.0.0'"
      ]
     },
     "execution_count": 10,
     "metadata": {},
     "output_type": "execute_result"
    }
   ],
   "source": [
    "tf.__version__"
   ]
  },
  {
   "cell_type": "code",
   "execution_count": 17,
   "metadata": {},
   "outputs": [],
   "source": [
    "dense_units = 5\n",
    "vocab_size = 100\n",
    "embedding_dim = 3\n",
    "# the length determines the no. of time step or hidden state\n",
    "max_length = 6\n",
    "\n",
    "gru_units = 10\n",
    "batch_size = 3"
   ]
  },
  {
   "cell_type": "code",
   "execution_count": 18,
   "metadata": {},
   "outputs": [
    {
     "name": "stdout",
     "output_type": "stream",
     "text": [
      "Inputs: \n",
      "[[ 1  3  4 10 54  2]\n",
      " [ 1 30  4 10 76  2]\n",
      " [ 1  3  4 10 34  2]]\n"
     ]
    }
   ],
   "source": [
    "inputs = tf.Variable([\n",
    "                [1, 3, 4, 10, 54, 2], # eg: <start> this is a  bag <end>\n",
    "                [1, 30, 4, 10, 76, 2],   #eg: <start> he is a boy <end>\n",
    "                [1, 3, 4, 10, 34, 2] # eg: <start> this is a bird <end>\n",
    "                     ])\n",
    "print(f\"Inputs: \\n{inputs.numpy()}\")"
   ]
  },
  {
   "cell_type": "code",
   "execution_count": 19,
   "metadata": {},
   "outputs": [
    {
     "data": {
      "text/plain": [
       "TensorShape([3, 6])"
      ]
     },
     "execution_count": 19,
     "metadata": {},
     "output_type": "execute_result"
    }
   ],
   "source": [
    "#Input Shape\n",
    "inputs.shape"
   ]
  },
  {
   "cell_type": "code",
   "execution_count": 20,
   "metadata": {},
   "outputs": [],
   "source": [
    "enc_embedding = tf.keras.layers.Embedding(vocab_size,embedding_dim)\n",
    "x = enc_embedding(inputs)"
   ]
  },
  {
   "cell_type": "code",
   "execution_count": 22,
   "metadata": {},
   "outputs": [
    {
     "data": {
      "text/plain": [
       "array([[[-0.002189  ,  0.03387812,  0.03366368],\n",
       "        [-0.02527224, -0.0253464 , -0.04970657],\n",
       "        [ 0.03916557,  0.0229264 ,  0.02924533],\n",
       "        [-0.02816937, -0.02453755,  0.02061386],\n",
       "        [-0.0455017 , -0.01238099, -0.0237707 ],\n",
       "        [-0.04621479, -0.01939863, -0.03276088]],\n",
       "\n",
       "       [[-0.002189  ,  0.03387812,  0.03366368],\n",
       "        [-0.02060975,  0.01104768,  0.03671408],\n",
       "        [ 0.03916557,  0.0229264 ,  0.02924533],\n",
       "        [-0.02816937, -0.02453755,  0.02061386],\n",
       "        [-0.03920903, -0.02873352,  0.00734175],\n",
       "        [-0.04621479, -0.01939863, -0.03276088]],\n",
       "\n",
       "       [[-0.002189  ,  0.03387812,  0.03366368],\n",
       "        [-0.02527224, -0.0253464 , -0.04970657],\n",
       "        [ 0.03916557,  0.0229264 ,  0.02924533],\n",
       "        [-0.02816937, -0.02453755,  0.02061386],\n",
       "        [-0.04598507,  0.01879999, -0.03811921],\n",
       "        [-0.04621479, -0.01939863, -0.03276088]]], dtype=float32)"
      ]
     },
     "execution_count": 22,
     "metadata": {},
     "output_type": "execute_result"
    }
   ],
   "source": [
    "x.numpy()"
   ]
  },
  {
   "cell_type": "code",
   "execution_count": 30,
   "metadata": {},
   "outputs": [
    {
     "data": {
      "text/plain": [
       "TensorShape([3, 6, 3])"
      ]
     },
     "execution_count": 30,
     "metadata": {},
     "output_type": "execute_result"
    }
   ],
   "source": [
    "# batch_size, max_length, embedding_dims\n",
    "x.shape"
   ]
  },
  {
   "cell_type": "code",
   "execution_count": 40,
   "metadata": {},
   "outputs": [],
   "source": [
    "# Using GRU units on the encoder side\n",
    "enc_gru = tf.keras.layers.GRU(gru_units,\n",
    "                               return_sequences=True,\n",
    "                               return_state=True,\n",
    "                               recurrent_initializer='glorot_uniform')"
   ]
  },
  {
   "cell_type": "code",
   "execution_count": 43,
   "metadata": {},
   "outputs": [],
   "source": [
    "# enc_hidden is allocated value only when return_state is set to True\n",
    "# similarly return_sequences serve the neighbouring hidden states \n",
    "enc_output, enc_hidden = enc_gru(x)"
   ]
  },
  {
   "cell_type": "code",
   "execution_count": 52,
   "metadata": {},
   "outputs": [
    {
     "name": "stdout",
     "output_type": "stream",
     "text": [
      "Encoder Output = (3, 6, 10)\n",
      "Hidden State Output = (3, 10)\n"
     ]
    }
   ],
   "source": [
    "print(\"Encoder Output = \" + str(enc_output.shape))\n",
    "print(\"Hidden State Output = \" + str(enc_hidden.shape))"
   ]
  },
  {
   "cell_type": "code",
   "execution_count": 53,
   "metadata": {},
   "outputs": [],
   "source": [
    "values = enc_output"
   ]
  },
  {
   "cell_type": "code",
   "execution_count": 54,
   "metadata": {},
   "outputs": [],
   "source": [
    "## Now Lets go through the Queries"
   ]
  },
  {
   "cell_type": "code",
   "execution_count": 55,
   "metadata": {},
   "outputs": [
    {
     "name": "stdout",
     "output_type": "stream",
     "text": [
      "(3, 10)\n"
     ]
    }
   ],
   "source": [
    "query = enc_hidden\n",
    "print(query.shape)"
   ]
  },
  {
   "cell_type": "code",
   "execution_count": 60,
   "metadata": {},
   "outputs": [
    {
     "name": "stdout",
     "output_type": "stream",
     "text": [
      "Query with time layer:\n"
     ]
    },
    {
     "data": {
      "text/plain": [
       "TensorShape([3, 1, 10])"
      ]
     },
     "execution_count": 60,
     "metadata": {},
     "output_type": "execute_result"
    }
   ],
   "source": [
    "#So, the query with time axis becomes\n",
    "query_with_time_axis = tf.expand_dims(query, 1)\n",
    "print(\"Query with time layer:\")\n",
    "query_with_time_axis.shape"
   ]
  },
  {
   "cell_type": "code",
   "execution_count": 63,
   "metadata": {},
   "outputs": [],
   "source": [
    "# Attention Layers\n",
    "query_layer = tf.keras.layers.Dense(dense_units)\n",
    "value_layer = tf.keras.layers.Dense(dense_units)\n",
    "V = tf.keras.layers.Dense(1)"
   ]
  },
  {
   "cell_type": "code",
   "execution_count": null,
   "metadata": {},
   "outputs": [],
   "source": []
  },
  {
   "cell_type": "code",
   "execution_count": null,
   "metadata": {},
   "outputs": [],
   "source": []
  },
  {
   "cell_type": "code",
   "execution_count": null,
   "metadata": {},
   "outputs": [],
   "source": []
  }
 ],
 "metadata": {
  "kernelspec": {
   "display_name": "Python 3",
   "language": "python",
   "name": "python3"
  },
  "language_info": {
   "codemirror_mode": {
    "name": "ipython",
    "version": 3
   },
   "file_extension": ".py",
   "mimetype": "text/x-python",
   "name": "python",
   "nbconvert_exporter": "python",
   "pygments_lexer": "ipython3",
   "version": "3.6.8"
  }
 },
 "nbformat": 4,
 "nbformat_minor": 2
}
